{
 "cells": [
  {
   "cell_type": "code",
   "execution_count": 1,
   "id": "handmade-tablet",
   "metadata": {},
   "outputs": [],
   "source": [
    "# Part 1 Script Packages\n",
    "import selenium\n",
    "from selenium import webdriver\n",
    "from selenium.webdriver.chrome.options import Options\n",
    "from selenium.webdriver.common.keys import Keys\n",
    "from selenium.webdriver.common.by import By\n",
    "from selenium.webdriver.common.action_chains import ActionChains\n",
    "from selenium.webdriver.support.ui import WebDriverWait\n",
    "from selenium.webdriver.support import expected_conditions as EC\n",
    "import arrow"
   ]
  },
  {
   "cell_type": "code",
   "execution_count": 2,
   "id": "operational-chicken",
   "metadata": {},
   "outputs": [],
   "source": [
    "# Part 2 Script Packages\n",
    "import os\n",
    "import time\n",
    "import pathlib\n",
    "from pathlib import Path\n",
    "import pandas as pd"
   ]
  },
  {
   "cell_type": "code",
   "execution_count": 3,
   "id": "subtle-thong",
   "metadata": {},
   "outputs": [],
   "source": [
    "# Part 3 Script Packages\n",
    "import smtplib\n",
    "import datetime as dt\n",
    "import time\n",
    "import email\n",
    "import ssl\n",
    "from email import encoders\n",
    "from email.mime.base import MIMEBase\n",
    "from email.mime.multipart import MIMEMultipart\n",
    "from email.mime.text import MIMEText"
   ]
  },
  {
   "cell_type": "code",
   "execution_count": 5,
   "id": "equivalent-giving",
   "metadata": {},
   "outputs": [
    {
     "name": "stderr",
     "output_type": "stream",
     "text": [
      "<ipython-input-5-7d52079a4604>:12: DeprecationWarning: use options instead of chrome_options\n",
      "  driver = webdriver.Chrome(chromedriver, chrome_options=chrome_options)\n"
     ]
    },
    {
     "name": "stdout",
     "output_type": "stream",
     "text": [
      "             @id @type   @user            @timestamp  \\\n",
      "0     4885212684  node  VLD168  2021-01-21T21:43:21Z   \n",
      "1     6338721498  node  VLD168  2020-11-19T17:08:22Z   \n",
      "2     8139432462  node  VLD168  2020-11-18T20:18:46Z   \n",
      "3     8139432463  node  VLD168  2020-11-18T20:18:46Z   \n",
      "4     8139432466  node  VLD168  2020-11-18T20:18:46Z   \n",
      "...          ...   ...     ...                   ...   \n",
      "1657   904319221   way  VLD168  2021-02-06T00:11:47Z   \n",
      "1658   904319886   way  VLD168  2021-02-06T00:34:35Z   \n",
      "1659   904319887   way  VLD168  2021-02-06T00:19:16Z   \n",
      "1660   904319888   way  VLD168  2021-02-06T00:19:16Z   \n",
      "1661   904319889   way  VLD168  2021-02-06T00:19:16Z   \n",
      "\n",
      "                                            weblink  \n",
      "0     https://www.openstreetmap.org/node/4885212684  \n",
      "1     https://www.openstreetmap.org/node/6338721498  \n",
      "2     https://www.openstreetmap.org/node/8139432462  \n",
      "3     https://www.openstreetmap.org/node/8139432463  \n",
      "4     https://www.openstreetmap.org/node/8139432466  \n",
      "...                                             ...  \n",
      "1657    https://www.openstreetmap.org/way/904319221  \n",
      "1658    https://www.openstreetmap.org/way/904319886  \n",
      "1659    https://www.openstreetmap.org/way/904319887  \n",
      "1660    https://www.openstreetmap.org/way/904319888  \n",
      "1661    https://www.openstreetmap.org/way/904319889  \n",
      "\n",
      "[1662 rows x 5 columns]\n"
     ]
    },
    {
     "name": "stderr",
     "output_type": "stream",
     "text": [
      "<ipython-input-5-7d52079a4604>:12: DeprecationWarning: use options instead of chrome_options\n",
      "  driver = webdriver.Chrome(chromedriver, chrome_options=chrome_options)\n"
     ]
    },
    {
     "name": "stdout",
     "output_type": "stream",
     "text": [
      "             @id @type   @user            @timestamp  \\\n",
      "0     8033254726  node  VLD155  2021-02-02T19:26:28Z   \n",
      "1     8033254728  node  VLD155  2021-02-02T19:26:28Z   \n",
      "2     8037974180  node  VLD155  2021-02-02T19:13:22Z   \n",
      "3     8038004703  node  VLD155  2021-02-02T19:02:38Z   \n",
      "4     8038004715  node  VLD155  2021-02-02T18:57:18Z   \n",
      "...          ...   ...     ...                   ...   \n",
      "1335   904215382   way  VLD155  2021-02-05T17:54:53Z   \n",
      "1336   904219435   way  VLD155  2021-02-05T18:10:04Z   \n",
      "1337   904222539   way  VLD155  2021-02-05T18:20:59Z   \n",
      "1338   904222540   way  VLD155  2021-02-05T18:20:59Z   \n",
      "1339   904234772   way  VLD155  2021-02-05T18:57:05Z   \n",
      "\n",
      "                                            weblink  \n",
      "0     https://www.openstreetmap.org/node/8033254726  \n",
      "1     https://www.openstreetmap.org/node/8033254728  \n",
      "2     https://www.openstreetmap.org/node/8037974180  \n",
      "3     https://www.openstreetmap.org/node/8038004703  \n",
      "4     https://www.openstreetmap.org/node/8038004715  \n",
      "...                                             ...  \n",
      "1335    https://www.openstreetmap.org/way/904215382  \n",
      "1336    https://www.openstreetmap.org/way/904219435  \n",
      "1337    https://www.openstreetmap.org/way/904222539  \n",
      "1338    https://www.openstreetmap.org/way/904222540  \n",
      "1339    https://www.openstreetmap.org/way/904234772  \n",
      "\n",
      "[1340 rows x 5 columns]\n"
     ]
    },
    {
     "name": "stderr",
     "output_type": "stream",
     "text": [
      "<ipython-input-5-7d52079a4604>:12: DeprecationWarning: use options instead of chrome_options\n",
      "  driver = webdriver.Chrome(chromedriver, chrome_options=chrome_options)\n"
     ]
    },
    {
     "name": "stdout",
     "output_type": "stream",
     "text": [
      "            @id @type   @user            @timestamp  \\\n",
      "0    7653828878  node  VLD157  2020-06-25T21:55:49Z   \n",
      "1    7656455209  node  VLD157  2020-06-26T14:48:23Z   \n",
      "2    7656455210  node  VLD157  2020-06-26T14:48:23Z   \n",
      "3    7656455211  node  VLD157  2020-06-26T14:48:23Z   \n",
      "4    7656540800  node  VLD157  2020-06-26T15:55:47Z   \n",
      "..          ...   ...     ...                   ...   \n",
      "111   877666321   way  VLD157  2020-11-25T22:01:43Z   \n",
      "112   877675145   way  VLD157  2020-11-25T22:56:04Z   \n",
      "113   877676025   way  VLD157  2020-11-25T22:51:18Z   \n",
      "114   877680347   way  VLD157  2020-11-25T23:07:20Z   \n",
      "115   879311656   way  VLD157  2020-11-30T15:42:35Z   \n",
      "\n",
      "                                           weblink  \n",
      "0    https://www.openstreetmap.org/node/7653828878  \n",
      "1    https://www.openstreetmap.org/node/7656455209  \n",
      "2    https://www.openstreetmap.org/node/7656455210  \n",
      "3    https://www.openstreetmap.org/node/7656455211  \n",
      "4    https://www.openstreetmap.org/node/7656540800  \n",
      "..                                             ...  \n",
      "111    https://www.openstreetmap.org/way/877666321  \n",
      "112    https://www.openstreetmap.org/way/877675145  \n",
      "113    https://www.openstreetmap.org/way/877676025  \n",
      "114    https://www.openstreetmap.org/way/877680347  \n",
      "115    https://www.openstreetmap.org/way/879311656  \n",
      "\n",
      "[116 rows x 5 columns]\n"
     ]
    },
    {
     "name": "stderr",
     "output_type": "stream",
     "text": [
      "<ipython-input-5-7d52079a4604>:12: DeprecationWarning: use options instead of chrome_options\n",
      "  driver = webdriver.Chrome(chromedriver, chrome_options=chrome_options)\n"
     ]
    },
    {
     "name": "stdout",
     "output_type": "stream",
     "text": [
      "            @id @type   @user            @timestamp  \\\n",
      "0    8011103688  node  VLD089  2020-11-30T20:52:17Z   \n",
      "1    8011183924  node  VLD089  2020-11-30T20:52:17Z   \n",
      "2    8104455651  node  VLD089  2020-11-10T20:13:20Z   \n",
      "3    8104455652  node  VLD089  2020-11-10T20:13:20Z   \n",
      "4    8158524915  node  VLD089  2020-11-24T15:32:55Z   \n",
      "..          ...   ...     ...                   ...   \n",
      "293   879314434   way  VLD089  2020-11-30T15:49:56Z   \n",
      "294   879330899   way  VLD089  2020-11-30T16:46:48Z   \n",
      "295   879359250   way  VLD089  2020-11-30T20:52:17Z   \n",
      "296   879359252   way  VLD089  2020-11-30T17:59:30Z   \n",
      "297   879409379   way  VLD089  2020-11-30T20:14:26Z   \n",
      "\n",
      "                                           weblink  \n",
      "0    https://www.openstreetmap.org/node/8011103688  \n",
      "1    https://www.openstreetmap.org/node/8011183924  \n",
      "2    https://www.openstreetmap.org/node/8104455651  \n",
      "3    https://www.openstreetmap.org/node/8104455652  \n",
      "4    https://www.openstreetmap.org/node/8158524915  \n",
      "..                                             ...  \n",
      "293    https://www.openstreetmap.org/way/879314434  \n",
      "294    https://www.openstreetmap.org/way/879330899  \n",
      "295    https://www.openstreetmap.org/way/879359250  \n",
      "296    https://www.openstreetmap.org/way/879359252  \n",
      "297    https://www.openstreetmap.org/way/879409379  \n",
      "\n",
      "[298 rows x 5 columns]\n"
     ]
    },
    {
     "name": "stderr",
     "output_type": "stream",
     "text": [
      "<ipython-input-5-7d52079a4604>:12: DeprecationWarning: use options instead of chrome_options\n",
      "  driver = webdriver.Chrome(chromedriver, chrome_options=chrome_options)\n"
     ]
    },
    {
     "ename": "FileNotFoundError",
     "evalue": "[WinError 2] The system cannot find the file specified: 'C:\\\\Users\\\\Brian\\\\Downloads\\\\interpreter' -> 'C:\\\\Users\\\\Brian\\\\Downloads\\\\NewNewsVLD171.csv'",
     "output_type": "error",
     "traceback": [
      "\u001b[1;31m---------------------------------------------------------------------------\u001b[0m",
      "\u001b[1;31mFileNotFoundError\u001b[0m                         Traceback (most recent call last)",
      "\u001b[1;32m<ipython-input-5-7d52079a4604>\u001b[0m in \u001b[0;36m<module>\u001b[1;34m\u001b[0m\n\u001b[0;32m     41\u001b[0m \u001b[1;33m\u001b[0m\u001b[0m\n\u001b[0;32m     42\u001b[0m \u001b[1;31m# P1 Renames downloaded file\u001b[0m\u001b[1;33m\u001b[0m\u001b[1;33m\u001b[0m\u001b[1;33m\u001b[0m\u001b[0m\n\u001b[1;32m---> 43\u001b[1;33m         \u001b[0mfRB\u001b[0m \u001b[1;33m=\u001b[0m \u001b[0mDL\u001b[0m\u001b[1;33m.\u001b[0m\u001b[0mreplace\u001b[0m\u001b[1;33m(\u001b[0m\u001b[1;34m'C:\\\\Users\\\\Brian\\\\Downloads\\\\NewNews'\u001b[0m\u001b[1;33m+\u001b[0m\u001b[0muser\u001b[0m\u001b[1;33m+\u001b[0m\u001b[1;34m'.csv'\u001b[0m\u001b[1;33m)\u001b[0m \u001b[1;31m#AKA News comes in\u001b[0m\u001b[1;33m\u001b[0m\u001b[1;33m\u001b[0m\u001b[0m\n\u001b[0m\u001b[0;32m     44\u001b[0m \u001b[1;33m\u001b[0m\u001b[0m\n\u001b[0;32m     45\u001b[0m \u001b[1;31m# P2 Defines More Terms\u001b[0m\u001b[1;33m\u001b[0m\u001b[1;33m\u001b[0m\u001b[1;33m\u001b[0m\u001b[0m\n",
      "\u001b[1;32m~\\anaconda3\\envs\\exp\\lib\\pathlib.py\u001b[0m in \u001b[0;36mreplace\u001b[1;34m(self, target)\u001b[0m\n\u001b[0;32m   1367\u001b[0m         \u001b[1;32mif\u001b[0m \u001b[0mself\u001b[0m\u001b[1;33m.\u001b[0m\u001b[0m_closed\u001b[0m\u001b[1;33m:\u001b[0m\u001b[1;33m\u001b[0m\u001b[1;33m\u001b[0m\u001b[0m\n\u001b[0;32m   1368\u001b[0m             \u001b[0mself\u001b[0m\u001b[1;33m.\u001b[0m\u001b[0m_raise_closed\u001b[0m\u001b[1;33m(\u001b[0m\u001b[1;33m)\u001b[0m\u001b[1;33m\u001b[0m\u001b[1;33m\u001b[0m\u001b[0m\n\u001b[1;32m-> 1369\u001b[1;33m         \u001b[0mself\u001b[0m\u001b[1;33m.\u001b[0m\u001b[0m_accessor\u001b[0m\u001b[1;33m.\u001b[0m\u001b[0mreplace\u001b[0m\u001b[1;33m(\u001b[0m\u001b[0mself\u001b[0m\u001b[1;33m,\u001b[0m \u001b[0mtarget\u001b[0m\u001b[1;33m)\u001b[0m\u001b[1;33m\u001b[0m\u001b[1;33m\u001b[0m\u001b[0m\n\u001b[0m\u001b[0;32m   1370\u001b[0m         \u001b[1;32mreturn\u001b[0m \u001b[0mself\u001b[0m\u001b[1;33m.\u001b[0m\u001b[0m__class__\u001b[0m\u001b[1;33m(\u001b[0m\u001b[0mtarget\u001b[0m\u001b[1;33m)\u001b[0m\u001b[1;33m\u001b[0m\u001b[1;33m\u001b[0m\u001b[0m\n\u001b[0;32m   1371\u001b[0m \u001b[1;33m\u001b[0m\u001b[0m\n",
      "\u001b[1;31mFileNotFoundError\u001b[0m: [WinError 2] The system cannot find the file specified: 'C:\\\\Users\\\\Brian\\\\Downloads\\\\interpreter' -> 'C:\\\\Users\\\\Brian\\\\Downloads\\\\NewNewsVLD171.csv'"
     ]
    }
   ],
   "source": [
    "#List of Users\n",
    "user_names = ['VLD168','VLD155','VLD157','VLD089','VLD171']\n",
    "#Cycles through users\n",
    "for x in range(0,5):\n",
    "    time.sleep(60)\n",
    "    for user in user_names:\n",
    "        \n",
    "# P1 Definitions\n",
    "        chromedriver = \"C:\\Program Files\\Google\\Chrome\\Application\\chromedriver.exe\"\n",
    "        chrome_options = webdriver.ChromeOptions()\n",
    "        chrome_options.add_argument(\"user-data-dir=C:\\\\dev-app2\")\n",
    "        driver = webdriver.Chrome(chromedriver, chrome_options=chrome_options)\n",
    "    \n",
    "# P1 Gets Overpass API\n",
    "        driver.get('https://lz4.overpass-api.de/query_form.html')\n",
    "\n",
    "# P1 Waits for it to load\n",
    "        driver.implicitly_wait(1000)\n",
    "\n",
    "# P1 Enters query into field and returns file\n",
    "        actions = ActionChains(driver)\n",
    "        form = driver.find_element_by_xpath(\"//form/p/textarea[@name='data']\")\n",
    "        actions.move_to_element(to_element=form).click().perform()\n",
    "        time.sleep(10)\n",
    "        actions.send_keys('[out:csv(::id,::type,::user,::timestamp;true;\",\")];nwr(user:'+user+');out meta;\\ue004\\ue006').click().perform()    \n",
    "        time.sleep(40)\n",
    "        driver.close()\n",
    "\n",
    "# P1 More Definitions\n",
    "        fWA = 'C:\\\\Users\\\\Brian\\\\Downloads\\\\OldNews'+user+'.csv' #Filepath of second DL file in chain\n",
    "        fWB = 'C:\\\\Users\\\\Brian\\\\Downloads\\\\NewNews'+user+'.csv' #Filepath of first DL file in chain\n",
    "        fWC = 'C:\\\\Users\\\\Brian\\\\Downloads\\interpreter' #Filepath of current DL file, does not come with suffix\n",
    "        fWD = 'C:\\\\Users\\\\Brian\\\\Downloads\\LeastRecent'+user+'Results.csv' #Filepath of old report\n",
    "        fWE = 'C:\\\\Users\\\\Brian\\\\Downloads\\MostRecent'+user+'Results.csv' #Filepath of newest report\n",
    "        ON = Path(fWA)\n",
    "        NN = Path(fWB)\n",
    "        DL = Path(fWC)\n",
    "        LR = Path(fWD)\n",
    "        MR = Path(fWE)\n",
    "        fRA = ON\n",
    "        \n",
    "# P1 Renames downloaded file\n",
    "        fRB = DL.replace('C:\\\\Users\\\\Brian\\\\Downloads\\\\NewNews'+user+'.csv') #AKA News comes in\n",
    "\n",
    "# P2 Defines More Terms\n",
    "        import pandas as pd\n",
    "        x = \"No news is good news!\"\n",
    "        y = \"Check out your changes!\"\n",
    "        try:\n",
    "            RA = pd.read_csv('C:\\\\Users\\\\Brian\\\\Downloads\\\\OldNews'+user+'.csv')\n",
    "        except OSError:\n",
    "            f = open('C:\\\\Users\\\\Brian\\\\Downloads\\\\OldNews'+user+'.csv', \"a\")\n",
    "            f.close()\n",
    "        RB = pd.read_csv('C:\\\\Users\\\\Brian\\\\Downloads\\\\NewNews'+user+'.csv')\n",
    "# Interacts with data\n",
    "        c = pd.concat([RA,RB], axis=0)\n",
    "        c.drop_duplicates(keep=False, inplace=True) \n",
    "# Prepares Report\n",
    "        c.reset_index(drop=True, inplace=True)\n",
    "\n",
    "#Adds the weblink column\n",
    "        c[\"weblink\"] = \"https://www.openstreetmap.org/\" + c[\"@type\"].astype(str) + \"/\" + c[\"@id\"].astype(str)\n",
    "        print(c)\n",
    "#Resaves with new column\n",
    "        if not c.empty:{\n",
    "            c.to_csv('C:\\\\Users\\\\Brian\\\\Downloads\\MostRecent'+user+'Results.csv')\n",
    "        }\n",
    "    \n",
    "# P2 New News becomes Old News\n",
    "        NN.replace('C:\\\\Users\\\\Brian\\\\Downloads\\\\OldNews'+user+'.csv')\n",
    "\n",
    "# P3 Makes an Email\n",
    "        subject = \"Check out your changes!\"\n",
    "        body = \"Thank you for using the gardener service. We hope this helps you make OSM great!\"\n",
    "        sender_email = \"brian.luff.1124@gmail.com\"\n",
    "        receiver_email = \"brian.luff.1124@gmail.com\"\n",
    "        password = \"Va1pa4a1s0!\"\n",
    "# P3 Create a multipart message and set headers\n",
    "        message = MIMEMultipart()\n",
    "        message[\"From\"] = sender_email\n",
    "        message[\"To\"] = receiver_email\n",
    "        message[\"Subject\"] = subject\n",
    "        message[\"Bcc\"] = receiver_email  # Recommended for mass emails\n",
    "# P3 Add body to email\n",
    "        message.attach(MIMEText(body, \"plain\"))\n",
    "        filename = \"C:\\\\Users\\\\Brian\\\\Downloads\\\\MostRecent\"+user+\"Results.csv\"  # In same directory as script\n",
    "# P3 Open file in binary mode\n",
    "        with open(filename, \"rb\") as attachment:\n",
    "    # Add file as application/octet-stream\n",
    "    # Email client can usually download this automatically as attachment\n",
    "            part = MIMEBase(\"application\", \"octet-stream\")\n",
    "            part.set_payload(attachment.read())\n",
    "# P3 Encode file in ASCII characters to send by email    \n",
    "        encoders.encode_base64(part)\n",
    "# Add header as key/value pair to attachment part\n",
    "        part.add_header(\n",
    "            \"Content-Disposition\",\n",
    "            f\"attachment; filename= {filename}\",\n",
    "        )\n",
    "# Add attachment to message and convert message to string\n",
    "        message.attach(part)\n",
    "        text = message.as_string()\n",
    "# Log in to server using secure context and send email\n",
    "        context = ssl.create_default_context()\n",
    "        with smtplib.SMTP_SSL(\"smtp.gmail.com\", 465, context=context) as server:\n",
    "            server.login(sender_email, password)\n",
    "            server.sendmail(sender_email, receiver_email, text)\n",
    "\n",
    "# Check your inbox; See you tomorrow!"
   ]
  },
  {
   "cell_type": "code",
   "execution_count": null,
   "id": "incorporate-challenge",
   "metadata": {},
   "outputs": [],
   "source": []
  },
  {
   "cell_type": "code",
   "execution_count": null,
   "id": "cordless-slovakia",
   "metadata": {},
   "outputs": [],
   "source": [
    "# Reading the News\n",
    "if c.empty:{\n",
    "    print(x)\n",
    "    }\n",
    "else:\n",
    "    print(y)"
   ]
  },
  {
   "cell_type": "code",
   "execution_count": null,
   "id": "compact-roman",
   "metadata": {},
   "outputs": [],
   "source": [
    "# Confirms files written correctly\n",
    "print(fRA)\n",
    "print(fRB)"
   ]
  },
  {
   "cell_type": "code",
   "execution_count": null,
   "id": "concerned-fetish",
   "metadata": {},
   "outputs": [],
   "source": [
    "# Confirms files ready for renaming\n",
    "if DL.exists():{\n",
    "    print(\"Download Okay!!\")\n",
    "    \n",
    "}\n",
    "else:\n",
    "    print('Check the following: 1. Did the file already get renamed? 2. Is the file in the right location? 3. Is the file written exactly the same?')"
   ]
  },
  {
   "cell_type": "code",
   "execution_count": null,
   "id": "hawaiian-familiar",
   "metadata": {},
   "outputs": [],
   "source": [
    "df=\"C:\\\\Users\\\\Brian\\\\Downloads\\\\MostRecentVLD168Results.csv\"\n",
    "\n",
    "utc_yesterday = utc.shift(days=-1)\n",
    "df[df['@timestamp'] < to_str(utc_yesterday)+Z]\n",
    "\n",
    "#This returns all the values with dates before 31th of December, 2017.\n",
    "#You can also use Query"
   ]
  },
  {
   "cell_type": "code",
   "execution_count": null,
   "id": "middle-hometown",
   "metadata": {},
   "outputs": [],
   "source": [
    "from datetime import datetime, timedelta\n",
    "d = datetime.today()\n",
    "\n",
    "print(d)"
   ]
  },
  {
   "cell_type": "code",
   "execution_count": null,
   "id": "critical-pittsburgh",
   "metadata": {},
   "outputs": [],
   "source": [
    "import arrow\n",
    "utc = arrow.utcnow()\n",
    "utc_yesterday = utc.shift(days=-1)\n",
    "print(utc, '\\n', utc_yesterday)"
   ]
  },
  {
   "cell_type": "code",
   "execution_count": null,
   "id": "golden-rapid",
   "metadata": {},
   "outputs": [],
   "source": [
    "df['Effective Date'] = pd.to_datetime(df['Effective Date'])\n",
    "df[df['Effective Date'] < '2017-12-31']"
   ]
  }
 ],
 "metadata": {
  "kernelspec": {
   "display_name": "Python 3",
   "language": "python",
   "name": "python3"
  },
  "language_info": {
   "codemirror_mode": {
    "name": "ipython",
    "version": 3
   },
   "file_extension": ".py",
   "mimetype": "text/x-python",
   "name": "python",
   "nbconvert_exporter": "python",
   "pygments_lexer": "ipython3",
   "version": "3.8.5"
  }
 },
 "nbformat": 4,
 "nbformat_minor": 5
}
