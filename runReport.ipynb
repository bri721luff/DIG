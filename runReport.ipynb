{
 "cells": [
  {
   "cell_type": "code",
   "execution_count": null,
   "id": "handmade-tablet",
   "metadata": {},
   "outputs": [],
   "source": [
    "# Part 1 Script Packages\n",
    "import selenium\n",
    "from selenium import webdriver\n",
    "from selenium.webdriver.chrome.options import Options\n",
    "from selenium.webdriver.common.keys import Keys\n",
    "from selenium.webdriver.common.by import By\n",
    "from selenium.webdriver.common.action_chains import ActionChains\n",
    "from selenium.webdriver.support.ui import WebDriverWait\n",
    "from selenium.webdriver.support import expected_conditions as EC"
   ]
  },
  {
   "cell_type": "code",
   "execution_count": null,
   "id": "operational-chicken",
   "metadata": {},
   "outputs": [],
   "source": [
    "# Part 2 Script Packages\n",
    "import os\n",
    "import time\n",
    "import pathlib\n",
    "from pathlib import Path\n",
    "import pandas as pd"
   ]
  },
  {
   "cell_type": "code",
   "execution_count": null,
   "id": "subtle-thong",
   "metadata": {},
   "outputs": [],
   "source": [
    "# Part 3 Script Packages\n",
    "import smtplib\n",
    "import datetime as dt\n",
    "import time\n",
    "import email\n",
    "import ssl\n",
    "from email import encoders\n",
    "from email.mime.base import MIMEBase\n",
    "from email.mime.multipart import MIMEMultipart\n",
    "from email.mime.text import MIMEText"
   ]
  },
  {
   "cell_type": "code",
   "execution_count": null,
   "id": "equivalent-giving",
   "metadata": {},
   "outputs": [],
   "source": [
    "# Part 1 Definitions\n",
    "chromedriver = \"C:\\Program Files\\Google\\Chrome\\Application\\chromedriver.exe\"\n",
    "chrome_options = webdriver.ChromeOptions()\n",
    "chrome_options.add_argument(\"user-data-dir=C:\\\\dev-app2\")\n",
    "driver = webdriver.Chrome(chromedriver, chrome_options=chrome_options)\n",
    "# Gets Overpass API\n",
    "driver.get('https://lz4.overpass-api.de/query_form.html')\n",
    "# Waits for it to load\n",
    "driver.implicitly_wait(1000)\n",
    "# Enters query into field and returns file\n",
    "actions = ActionChains(driver)\n",
    "form = driver.find_element_by_xpath(\"//form/p/textarea[@name='data']\")\n",
    "actions.move_to_element(to_element=form).click().perform()\n",
    "actions.send_keys('[out:csv(::id,::type,::user,::timestamp;true;\",\")];nwr(user:VLD168);out meta;\\ue004\\ue006').click().perform()    "
   ]
  },
  {
   "cell_type": "code",
   "execution_count": null,
   "id": "incorporate-challenge",
   "metadata": {},
   "outputs": [],
   "source": [
    "# More Definitions\n",
    "fWA = 'C:\\\\Users\\\\Brian\\\\Downloads\\OldNews.csv' #Filepath of second DL file in chain\n",
    "fWB = 'C:\\\\Users\\\\Brian\\\\Downloads\\\\NewNews.csv' #Filepath of first DL file in chain\n",
    "fWC = 'C:\\\\Users\\\\Brian\\\\Downloads\\interpreter' #Filepath of current DL file, does not come with suffix\n",
    "fWD = 'C:\\\\Users\\\\Brian\\\\Downloads\\LeastRecentResults.csv' #Filepath of old report\n",
    "fWE = 'C:\\\\Users\\\\Brian\\\\Downloads\\MostRecentResults.csv' #Filepath of newest report\n",
    "ON = Path(fWA)\n",
    "NN = Path(fWB)\n",
    "DL = Path(fWC)\n",
    "LR = Path(fWD)\n",
    "MR = Path(fWE)\n",
    "# Confirms files ready for renaming\n",
    "time.sleep(60)\n",
    "if DL.exists():{\n",
    "    print(\"Download Okay!!\")\n",
    "    \n",
    "}\n",
    "else:\n",
    "    print('Check the following: 1. Did the file already get renamed? 2. Is the file in the right location? 3. Is the file written exactly the same?')\n",
    "\n",
    "# Part 1 Renames downloaded file\n",
    "fRA = ON\n",
    "fRB = DL.replace('C:\\\\Users\\\\Brian\\\\Downloads\\\\NewNews.csv') #AKA News comes in\n",
    "# Confirms files written correctly\n",
    "print(fRA)\n",
    "print(fRB)"
   ]
  },
  {
   "cell_type": "code",
   "execution_count": null,
   "id": "cordless-slovakia",
   "metadata": {},
   "outputs": [],
   "source": [
    "# Part 1 Renames downloaded file\n",
    "fRA = ON\n",
    "fRB = DL.replace('C:\\\\Users\\\\Brian\\\\Downloads\\\\NewNews.csv') #AKA News comes in\n",
    "# Confirms files written correctly\n",
    "print(fRA)\n",
    "print(fRB)"
   ]
  },
  {
   "cell_type": "code",
   "execution_count": null,
   "id": "compact-roman",
   "metadata": {},
   "outputs": [],
   "source": [
    "# Part 2 Defines More Terms\n",
    "import pandas as pd\n",
    "x = \"No news is good news!\"\n",
    "y = \"Check out your changes!\"\n",
    "RA = pd.read_csv('C:\\\\Users\\\\Brian\\\\Downloads\\OldNews.csv')\n",
    "RB = pd.read_csv('C:\\\\Users\\\\Brian\\\\Downloads\\\\NewNews.csv')\n",
    "# Interacts with data\n",
    "c = pd.concat([RA,RB], axis=0)\n",
    "c.drop_duplicates(keep=False, inplace=True) \n",
    "# Prepares Report\n",
    "c.reset_index(drop=True, inplace=True)\n",
    "# Reading the News\n",
    "if c.empty:{\n",
    "    print(x)\n",
    "    }\n",
    "else:\n",
    "    print(y)\n",
    "#Adds the weblink column\n",
    "c[\"weblink\"] = \"https://www.openstreetmap.org/\" + c[\"@type\"].astype(str) + \"/\" + c[\"@id\"].astype(str)\n",
    "print(c)\n",
    "\n",
    "if not c.empty:{\n",
    "    \n",
    "    c.to_csv('C:\\\\Users\\\\Brian\\\\Downloads\\MostRecentResults.csv')\n",
    "}"
   ]
  },
  {
   "cell_type": "code",
   "execution_count": null,
   "id": "concerned-fetish",
   "metadata": {},
   "outputs": [],
   "source": [
    "# Part 2 New News becomes Old News\n",
    "NN.replace('C:\\\\Users\\\\Brian\\\\Downloads\\\\OldNews.csv')"
   ]
  },
  {
   "cell_type": "code",
   "execution_count": null,
   "id": "hawaiian-familiar",
   "metadata": {},
   "outputs": [],
   "source": [
    "# Part 3 Making an Email Method\n",
    "subject = \"Check out your changes!\"\n",
    "body = \"Thank you for using the OSMgaarten service. We hope this helps you make OSM great!\"\n",
    "sender_email = \"brian.luff.1124@gmail.com\"\n",
    "receiver_email = \"brian.luff.1124@gmail.com\"\n",
    "password = \"Va1pa4a1s0!\"\n",
    "# Create a multipart message and set headers\n",
    "message = MIMEMultipart()\n",
    "message[\"From\"] = sender_email\n",
    "message[\"To\"] = receiver_email\n",
    "message[\"Subject\"] = subject\n",
    "message[\"Bcc\"] = receiver_email  # Recommended for mass emails\n",
    "# Add body to email\n",
    "message.attach(MIMEText(body, \"plain\"))\n",
    "filename = \"C:\\\\Users\\\\Brian\\\\Downloads\\\\MostRecentResults.csv\"  # In same directory as script\n",
    "# Open PDF file in binary mode\n",
    "with open(filename, \"rb\") as attachment:\n",
    "    # Add file as application/octet-stream\n",
    "    # Email client can usually download this automatically as attachment\n",
    "    part = MIMEBase(\"application\", \"octet-stream\")\n",
    "    part.set_payload(attachment.read())\n",
    "# Encode file in ASCII characters to send by email    \n",
    "encoders.encode_base64(part)\n",
    "# Add header as key/value pair to attachment part\n",
    "part.add_header(\n",
    "    \"Content-Disposition\",\n",
    "    f\"attachment; filename= {filename}\",\n",
    ")\n",
    "# Add attachment to message and convert message to string\n",
    "message.attach(part)\n",
    "text = message.as_string()\n",
    "# Log in to server using secure context and send email\n",
    "context = ssl.create_default_context()\n",
    "with smtplib.SMTP_SSL(\"smtp.gmail.com\", 465, context=context) as server:\n",
    "    server.login(sender_email, password)\n",
    "    server.sendmail(sender_email, receiver_email, text)\n",
    "\n",
    "# Check your inbox; See you tomorrow!"
   ]
  },
  {
   "cell_type": "code",
   "execution_count": null,
   "id": "middle-hometown",
   "metadata": {},
   "outputs": [],
   "source": []
  }
 ],
 "metadata": {
  "kernelspec": {
   "display_name": "Python 3",
   "language": "python",
   "name": "python3"
  },
  "language_info": {
   "codemirror_mode": {
    "name": "ipython",
    "version": 3
   },
   "file_extension": ".py",
   "mimetype": "text/x-python",
   "name": "python",
   "nbconvert_exporter": "python",
   "pygments_lexer": "ipython3",
   "version": "3.8.5"
  }
 },
 "nbformat": 4,
 "nbformat_minor": 5
}
